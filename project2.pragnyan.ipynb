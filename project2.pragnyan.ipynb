{
 "cells": [
  {
   "cell_type": "code",
   "execution_count": null,
   "id": "850be2be",
   "metadata": {},
   "outputs": [],
   "source": []
  },
  {
   "cell_type": "code",
   "execution_count": null,
   "id": "2b07e957",
   "metadata": {},
   "outputs": [],
   "source": []
  },
  {
   "cell_type": "code",
   "execution_count": null,
   "id": "ce0953e3",
   "metadata": {},
   "outputs": [
    {
     "name": "stdout",
     "output_type": "stream",
     "text": [
      "Welcome to Gossner College Library\n",
      "enter username: Pragnyan\n",
      "enter password: chiku\n",
      "Pragnyan\n",
      "chiku welcome\n"
     ]
    }
   ],
   "source": [
    "original_username=\"Pragnyan\"\n",
    "original_password=\"chiku\"\n",
    "a=\"Welcome to Gossner College Library\"\n",
    "print(a)\n",
    "username=input(\"enter username: \")\n",
    "password=input(\"enter password: \")\n",
    "if(password==original_password) and (username==original_username):\n",
    "    \n",
    "    print(username)\n",
    "    print(password,\"welcome\")\n",
    "\n",
    "    B={\"english\":50,\"maths\":30,\"chemistry\":40,\"physics\":30,\"biology\":20}\n",
    "\n",
    "    while True:\n",
    "        choice=int(input(\"\"\"what task do you want to perform?\n",
    "                            press1 for issuing book\n",
    "                            press2 for returning book\n",
    "                            press3 for adding book\n",
    "                            press4 for displaying the books\"\"\"))\n",
    "\n",
    "        if choice==1:\n",
    "            print(\"No. of books available are: \",\"\\n\",B)\n",
    "            b=input(\"Enter name of book you want to issue: \").lower()\n",
    "            c=int(input(\"enter quantity: \"))\n",
    "            B[b]-=c\n",
    "            if B[b] >= c:\n",
    "                print(\"your book is issued: \")\n",
    "            else:\n",
    "                print(\"books are not available\") \n",
    "            print(B)\n",
    "\n",
    "        elif choice==2:\n",
    "            b=input(\"enter book name you want to return: \").lower()\n",
    "            c=int(input(\"enter the quantity: \"))\n",
    "            B[b]+=c\n",
    "            print(B)\n",
    "\n",
    "        elif choice==3:\n",
    "            b=input(\"enter book name you want to add: \").lower()\n",
    "            c=int(input(\"enter quantity: \"))\n",
    "            B[b]+=c\n",
    "            print(B)\n",
    "\n",
    "        elif choice==4:\n",
    "            print(B)\n",
    "\n",
    "        else:\n",
    "            print(\"thank you for visiting!\")\n",
    "            break\n",
    "\n",
    "\n"
   ]
  },
  {
   "cell_type": "code",
   "execution_count": null,
   "id": "cb442a08",
   "metadata": {},
   "outputs": [],
   "source": []
  },
  {
   "cell_type": "code",
   "execution_count": null,
   "id": "c8b8afc6",
   "metadata": {},
   "outputs": [],
   "source": []
  }
 ],
 "metadata": {
  "kernelspec": {
   "display_name": "Python 3 (ipykernel)",
   "language": "python",
   "name": "python3"
  },
  "language_info": {
   "codemirror_mode": {
    "name": "ipython",
    "version": 3
   },
   "file_extension": ".py",
   "mimetype": "text/x-python",
   "name": "python",
   "nbconvert_exporter": "python",
   "pygments_lexer": "ipython3",
   "version": "3.10.9"
  }
 },
 "nbformat": 4,
 "nbformat_minor": 5
}
